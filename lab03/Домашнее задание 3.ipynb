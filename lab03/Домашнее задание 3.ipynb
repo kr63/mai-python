{
 "cells": [
  {
   "cell_type": "markdown",
   "metadata": {
    "id": "_H0cqBLPcOra"
   },
   "source": [
    "# Задача 1\n",
    "\n",
    "1. Реализовать класс CustomList наследованием от list\n",
    "\n",
    "При этом:\n",
    "\n",
    "- CustomList должен наследоваться от встроенного списка list;\n",
    "- экземпляры CustomList можно складывать друг с другом и с обычными списками:\n",
    "```\n",
    "CustomList([5, 1, 3, 7]) + CustomList([1, 2, 7])  # CustomList([6, 3, 10, 7])\n",
    "CustomList([1]) + [2, 5]  # CustomList([3, 5])\n",
    "[2, 5] + CustomList([1])  # CustomList([3, 5])\n",
    "```\n",
    "- экземпляры CustomList поддерживают вычитание между собой и с обычными списками:\n",
    "```\n",
    "CustomList([5, 1, 3, 7]) - CustomList([1, 2, 7])  # CustomList([4, -1, -4, 7])\n",
    "CustomList([1]) - [2, 5]  # CustomList([-1, -5])\n",
    "[2, 5] - CustomList([1])  # CustomList([1, 5])\n",
    "```\n",
    "\n",
    "- результатом сложения/вычитания должен быть новый кастомный список;\n",
    "- после сложения/вычитания исходные списки не должны изменяться;\n",
    "- при сложении/вычитании списков разной длины отсутствующие элементы меньшего списка считаются нулями;\n",
    "- при сравнении (==, !=, >, >=, <, <=) экземмпляров CustomList должна сравниваться сумма элементов списков (сравнение с list не нужно);\n",
    "- должен быть переопределен str, чтобы выводились элементы списка и их сумма;\n",
    "- списки можно считать всегда числовыми.\n",
    "\n",
    "2. Тесты CustomList"
   ]
  },
  {
   "cell_type": "code",
   "execution_count": null,
   "metadata": {
    "id": "ddBYm91tdDF7"
   },
   "outputs": [],
   "source": []
  },
  {
   "cell_type": "markdown",
   "metadata": {
    "id": "_dNNEuwadCjq"
   },
   "source": [
    "# Задача 2\n",
    "\n",
    "1. Метакласс, который в начале названий всех атрибутов и методов, кроме магических, добавляет префикс \"custom_\"\n",
    "\n",
    "  Подменяться должны атрибуты класса и атрибуты экземпляра класса, в том числе добавленные после выполнения конструктора (dynamic в примере).\n",
    "\n",
    "```\n",
    "    class CustomMeta(...):\n",
    "        pass\n",
    "\n",
    "\n",
    "    class CustomClass(metaclass=CustomMeta):\n",
    "        x = 50\n",
    "\n",
    "        def __init__(self, val=99):\n",
    "            self.val = val\n",
    "\n",
    "        def line(self):\n",
    "            return 100\n",
    "\n",
    "        def __str__(self):\n",
    "            return \"Custom_by_metaclass\"\n",
    "\n",
    "\n",
    "    assert CustomClass.custom_x == 50\n",
    "    CustomClass.x  # ошибка\n",
    "\n",
    "    inst = CustomClass()\n",
    "    assert inst.custom_x == 50\n",
    "    assert inst.custom_val == 99\n",
    "    assert inst.custom_line() == 100\n",
    "    assert str(inst) == \"Custom_by_metaclass\"\n",
    "\n",
    "    inst.x  # ошибка\n",
    "    inst.val  # ошибка\n",
    "    inst.line() # ошибка\n",
    "    inst.yyy  # ошибка\n",
    "\n",
    "    inst.dynamic = \"added later\"\n",
    "    assert inst.custom_dynamic == \"added later\"\n",
    "    inst.dynamic  # ошибка\n",
    "```\n",
    "\n",
    "2. Тесты метакласса"
   ]
  },
  {
   "cell_type": "code",
   "execution_count": null,
   "metadata": {
    "id": "-TT0y9MtdfOU"
   },
   "outputs": [],
   "source": []
  },
  {
   "cell_type": "markdown",
   "metadata": {
    "id": "eNwtZmt8dfoe"
   },
   "source": [
    "# Задача 3\n",
    "\n",
    "1. Нужно сделать три дескриптора для какой-то области интереса (наука, финансы, хобби и тд), но если совсем не получается, то можно использовать шаблона ниже в качестве основы.\n",
    "\n",
    "```\n",
    "    class Integer:\n",
    "        pass\n",
    "\n",
    "    class String:\n",
    "        pass\n",
    "\n",
    "    class PositiveInteger:\n",
    "        pass\n",
    "\n",
    "    class Data:\n",
    "        num = Integer()\n",
    "        name = String()\n",
    "        price = PositiveInteger()\n",
    "\n",
    "        def __init__(...):\n",
    "            ....\n",
    "```\n",
    "\n",
    "2. Тесты метакласса и дескрипторов"
   ]
  }
 ],
 "metadata": {
  "colab": {
   "authorship_tag": "ABX9TyN6rBHohauh3jynAHQ1iFYY",
   "provenance": []
  },
  "kernelspec": {
   "display_name": "Python 3 (ipykernel)",
   "language": "python",
   "name": "python3"
  },
  "language_info": {
   "codemirror_mode": {
    "name": "ipython",
    "version": 3
   },
   "file_extension": ".py",
   "mimetype": "text/x-python",
   "name": "python",
   "nbconvert_exporter": "python",
   "pygments_lexer": "ipython3",
   "version": "3.12.6"
  }
 },
 "nbformat": 4,
 "nbformat_minor": 4
}
