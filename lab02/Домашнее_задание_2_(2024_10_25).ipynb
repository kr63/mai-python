{
 "cells": [
  {
   "cell_type": "markdown",
   "metadata": {
    "id": "unkeM9sfFffO"
   },
   "source": [
    "# Домашнее задание №2\n",
    "\n",
    "### Сроки выполнения:\n",
    "\n",
    "**Оценка \"отлично\":** 8 ноября 2024\n",
    "\n",
    "**Оценка \"хорошо\":** 15 ноября 2024\n",
    "\n",
    "За более позднюю сдачу ставится оценка \"удовлетворительно\"\n",
    "\n",
    "Для сдачи необходимо прислать ваш юпитер ноутбук в личку в телеграм мне (ник @sophistik). Я проверю его в течение 24 часов и пришлю вам обратную связь."
   ]
  },
  {
   "cell_type": "markdown",
   "metadata": {
    "id": "UC1sv3juFpDt"
   },
   "source": [
    "## Задание 1: Обработчик JSON\n",
    "\n",
    "Написать функцию, которая в качестве аргументов принимает строку json, список полей, которые необходимо обработать, список имён, которые нужно найти и функцию-обработчика имени, который срабатывает, когда в каком-либо поле было найдено ключевое имя.\n",
    "\n",
    "Функция, должна принимать строку, в которой содержится json, и произвести парсинг этого json. Упростим немного и представим, что json представляет из себя только коллекцию ключей-значений. Причём ключами и значениями являются только строки.\n",
    "\n",
    "Функция-обработчик должна выводить строку в формате:\n",
    "\"В поле [field] было найдено [keyword]\"\n"
   ]
  },
  {
   "cell_type": "markdown",
   "metadata": {
    "id": "naLl1ARTG8U5"
   },
   "source": [
    "**Пример 1:**\n",
    "\n",
    "Ввод:\n",
    "\n",
    "```\n",
    "json_str = '{\"key1\": \"Word1 word2\", \"key2\": \"word2 word3\", \"key3\": \"word2 word4\"}',\n",
    "required_fields = [\"key1\", \"key3\"],\n",
    "keywords = [\"word2\", \"word4]\n",
    "```\n",
    "\n",
    "Вывод:\n",
    "```\n",
    "В поле \"key1\" было найдено \"word2\".\n",
    "В поле \"key3\" было найдено \"word2\".\n",
    "В поле \"key3\" было найдено \"word4\".\n",
    "```"
   ]
  },
  {
   "cell_type": "code",
   "execution_count": 5,
   "metadata": {
    "id": "5vneI0jHGxgX"
   },
   "outputs": [
    {
     "name": "stdout",
     "output_type": "stream",
     "text": [
      "В поле \"key1\" было найдено \"word2\"\n",
      "В поле \"key3\" было найдено \"word2\"\n",
      "В поле \"key3\" было найдено \"word4\"\n"
     ]
    }
   ],
   "source": [
    "import json\n",
    "\n",
    "json_str = '{\"key1\": \"word1 word2\", \"key2\": \"word2 word3\", \"key3\": \"word2 word4\"}'\n",
    "required_fields = [\"key1\", \"key3\"]\n",
    "keywords = [\"word2\", \"word4\"]\n",
    "\n",
    "\n",
    "def key_value_print(**kwargs):\n",
    "    for key, value in kwargs.items():\n",
    "        for item in value:\n",
    "            print(f\"В поле \\\"{key}\\\" было найдено \\\"{item}\\\"\")\n",
    "\n",
    "\n",
    "def parse_json(json_str: str, required_fields=None, keywords=None, keyword_callback=key_value_print):\n",
    "    if required_fields is None or keywords is None:\n",
    "        return\n",
    "    json_data = {key: value.split() for key, value in json.loads(json_str).items()}\n",
    "    for key in required_fields:\n",
    "        values = json_data.get(key)\n",
    "        filtered_values = [item for item in values if item in keywords]\n",
    "        keyword_callback(**{key: filtered_values})\n",
    "\n",
    "parse_json(json_str, required_fields, keywords)"
   ]
  },
  {
   "cell_type": "markdown",
   "metadata": {
    "id": "FmUKLNo7MSSs"
   },
   "source": [
    "## Задание 2: реализация декоратора\n",
    "\n",
    "Написать декоратор, который выводит среднее время выполнения последних k вызовов при каждом вызове функции"
   ]
  },
  {
   "cell_type": "code",
   "execution_count": 15,
   "metadata": {
    "id": "NaiOBvv-McEP"
   },
   "outputs": [
    {
     "name": "stdout",
     "output_type": "stream",
     "text": [
      "1.1920928955078125e-07\n"
     ]
    }
   ],
   "source": [
    "import time\n",
    "from collections import deque\n",
    "\n",
    "\n",
    "def mean(k):\n",
    "    def decorator(func):\n",
    "        def wrapper(*args, **kwargs):\n",
    "            if not hasattr(wrapper, 'cache'):\n",
    "                wrapper.cache = deque(maxlen=k)\n",
    "            start_time = time.time()\n",
    "            result = func(*args, **kwargs)\n",
    "            wrapper.cache.append(time.time() - start_time)\n",
    "            return result\n",
    "        return wrapper\n",
    "    return decorator\n",
    "\n",
    "@mean(10)\n",
    "def foo(arg1):\n",
    "    pass\n",
    "\n",
    "@mean(2)\n",
    "def boo(arg1):\n",
    "    pass\n",
    "\n",
    "for _ in range(100):\n",
    "    foo(\"Walter\")\n",
    "\n",
    "\n",
    "print(sum(foo.cache) / len(foo.cache))"
   ]
  },
  {
   "cell_type": "markdown",
   "metadata": {
    "id": "PylIK-_y13rb"
   },
   "source": [
    "## Задание 3: реализация lambda-функции\n",
    "\n",
    "Написать lambda выражение для сортировки списка слов сначала по длине, а затем по алфавиту без учёта регистра.\n",
    "\n",
    "Примечание\n",
    "В решении не должно быть ничего, кроме выражения."
   ]
  },
  {
   "cell_type": "code",
   "execution_count": 9,
   "metadata": {
    "colab": {
     "base_uri": "https://localhost:8080/"
    },
    "id": "7VwkblfK2KGz",
    "outputId": "1fc04bc6-cc2a-4f3c-dc19-aa290904b5e2"
   },
   "outputs": [
    {
     "name": "stdout",
     "output_type": "stream",
     "text": [
      "['А', 'на', 'лапу', 'роза', 'Азора', 'упала']\n",
      "['мама', 'Мыла', 'раму']\n"
     ]
    }
   ],
   "source": [
    "custom_sort = lambda x: (len(x.lower()), x.lower())\n",
    "\n",
    "tests = ['А роза упала на лапу Азора', 'мама Мыла раму']\n",
    "\n",
    "for string in tests:\n",
    "  print(sorted(string.split(), key=custom_sort))"
   ]
  },
  {
   "cell_type": "markdown",
   "metadata": {
    "id": "WvFp54hr53zB"
   },
   "source": [
    "## Задание 4: треугольник Паскаля\n",
    "\n",
    "На вход подаётся число $n$, напишите функцию, которая будет выводить [треугольник паскаля](https://ru.wikipedia.org/wiki/%D0%A2%D1%80%D0%B5%D1%83%D0%B3%D0%BE%D0%BB%D1%8C%D0%BD%D0%B8%D0%BA_%D0%9F%D0%B0%D1%81%D0%BA%D0%B0%D0%BB%D1%8F) с помощью рекурсии.\n",
    "\n",
    "**Пример:**\n",
    "\n",
    "Ввод: 5\n",
    "\n",
    "Ответ: `[[1],[1,1],[1,2,1],[1,3,3,1],[1,4,6,4,1]]`\n"
   ]
  },
  {
   "cell_type": "code",
   "execution_count": 10,
   "metadata": {
    "id": "8MNfMemX6the"
   },
   "outputs": [
    {
     "name": "stdout",
     "output_type": "stream",
     "text": [
      "[[1], [1, 1], [1, 2, 1], [1, 3, 3, 1], [1, 4, 6, 4, 1]]\n"
     ]
    }
   ],
   "source": [
    "def pascal(n):\n",
    "    if n == 0:\n",
    "        return []\n",
    "    if n == 1:\n",
    "        return [[1]]\n",
    "    first = [1]\n",
    "    result = pascal(n - 1)\n",
    "    last = result[-1]\n",
    "    for index in range(len(last) - 1):\n",
    "        first.append(last[index] + last[index + 1])\n",
    "    first += [1]\n",
    "    result.append(first)\n",
    "    return result\n",
    "\n",
    "print(pascal(5))"
   ]
  },
  {
   "cell_type": "markdown",
   "metadata": {
    "id": "s9de2_Hw7vvr"
   },
   "source": [
    "## Задание 5: Циклический генератор\n",
    "\n",
    "Напишите генератор cycle, который принимает список и работает аналогично итератору itertools.cycle."
   ]
  },
  {
   "cell_type": "code",
   "execution_count": 11,
   "metadata": {
    "id": "Y1ACM-8k790_"
   },
   "outputs": [
    {
     "name": "stdout",
     "output_type": "stream",
     "text": [
      "1 2 3 1 2\n",
      "1 2 3 4 1 2 3 4 1 2 3 4 1 2 3\n"
     ]
    }
   ],
   "source": [
    "def cycle(values: list):\n",
    "    already_yielded = []\n",
    "    for item in values:\n",
    "        yield item\n",
    "        already_yielded.append(item)\n",
    "    while True:\n",
    "        for item in already_yielded:\n",
    "            yield item\n",
    "\n",
    "print(*(x for _, x in zip(range(5), cycle([1, 2, 3])))) # Ответ: 1 2 3 1 2\n",
    "print(*(x for _, x in zip(range(15), cycle([1, 2, 3, 4])))) # Ответ: 1 2 3 4 1 2 3 4 1 2 3 4 1 2 3"
   ]
  },
  {
   "cell_type": "code",
   "execution_count": null,
   "metadata": {},
   "outputs": [],
   "source": []
  }
 ],
 "metadata": {
  "colab": {
   "provenance": [],
   "toc_visible": true
  },
  "kernelspec": {
   "display_name": "Python 3 (ipykernel)",
   "language": "python",
   "name": "python3"
  },
  "language_info": {
   "codemirror_mode": {
    "name": "ipython",
    "version": 3
   },
   "file_extension": ".py",
   "mimetype": "text/x-python",
   "name": "python",
   "nbconvert_exporter": "python",
   "pygments_lexer": "ipython3",
   "version": "3.12.6"
  }
 },
 "nbformat": 4,
 "nbformat_minor": 4
}
