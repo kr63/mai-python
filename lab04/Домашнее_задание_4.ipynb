{
 "cells": [
  {
   "cell_type": "markdown",
   "metadata": {
    "id": "Y17pk3s39McV"
   },
   "source": [
    "# Задание 1\n",
    "\n",
    "Напишите программу с двумя потоками. В первом потоке выведите все чётные числа, во втором -- нечётные. Нижняя и верхняя граница указывается на входе (можно захардкодить, чтобы не вводить).\n",
    "\n",
    "Пример:\n",
    "\n",
    "Входные данные:\n",
    "```\n",
    "30\n",
    "50\n",
    "```\n",
    "\n",
    "Ответ:\n",
    "```\n",
    "List of even numbers:\n",
    "30 32 34 36 38 40 42 44 46 48 50\n",
    "List of odd numbers:\n",
    "31 33 35 37 39 41 43 45 47 49\n",
    "```"
   ]
  },
  {
   "cell_type": "code",
   "execution_count": null,
   "metadata": {
    "id": "fOeB9jZu_Cel"
   },
   "outputs": [],
   "source": []
  },
  {
   "cell_type": "markdown",
   "metadata": {
    "id": "xWOcw0bfDhW2"
   },
   "source": [
    "# Задание 2\n",
    "\n",
    "Реализуйте программу, которая конкурентно посчитает факториал числа.\n",
    "\n",
    "Входные данные:\n",
    "```\n",
    "12\n",
    "```\n",
    "\n",
    "Ответ:\n",
    "```\n",
    "479001600\n",
    "```"
   ]
  },
  {
   "cell_type": "markdown",
   "metadata": {
    "id": "S8tau_l2_SP1"
   },
   "source": [
    "# Задание 3\n",
    "\n",
    "Напишите 2 функции: первая считает квадрат числа (можно взять готовые реализации), вторая -- сумму чисел.\n",
    "\n",
    "Каждую из указанных функций запустите в отдельном процессе. В результате у вас должен получится пайплайн, который получает на вход числа от 1 до $n$ (включительно), считает для них квадрат, и для полученных чисел считает сумму.\n",
    "\n",
    "Входные данные:\n",
    "```\n",
    "10\n",
    "```\n",
    "\n",
    "Ответ:\n",
    "```\n",
    "385\n",
    "```"
   ]
  },
  {
   "cell_type": "code",
   "execution_count": null,
   "metadata": {
    "id": "mxOqE_quAVU8"
   },
   "outputs": [],
   "source": []
  },
  {
   "cell_type": "markdown",
   "metadata": {
    "id": "1KhRHQ_dBN0e"
   },
   "source": [
    "# Задание 4\n",
    "\n",
    "Реализуйте параллельный алгоритм сортировки слиянием (merge sort) с использованием multiprocessing.Array либо multiprocessing.Manager.\n",
    "\n",
    "Входные данные:\n",
    "```\n",
    "3 14 15 9 2 6 5 35\n",
    "```\n",
    "\n",
    "Ответ:\n",
    "```\n",
    "2 3 5 6 9 14 15 35\n",
    "```"
   ]
  },
  {
   "cell_type": "code",
   "execution_count": null,
   "metadata": {
    "id": "-OPFks5aDHgy"
   },
   "outputs": [],
   "source": []
  }
 ],
 "metadata": {
  "colab": {
   "provenance": []
  },
  "kernelspec": {
   "display_name": "Python 3 (ipykernel)",
   "language": "python",
   "name": "python3"
  },
  "language_info": {
   "codemirror_mode": {
    "name": "ipython",
    "version": 3
   },
   "file_extension": ".py",
   "mimetype": "text/x-python",
   "name": "python",
   "nbconvert_exporter": "python",
   "pygments_lexer": "ipython3",
   "version": "3.12.7"
  }
 },
 "nbformat": 4,
 "nbformat_minor": 4
}
